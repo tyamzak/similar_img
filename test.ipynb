{
 "cells": [
  {
   "cell_type": "code",
   "execution_count": 13,
   "metadata": {},
   "outputs": [],
   "source": [
    "def similar_check(productimg:str, similarimg:str):\n",
    "    import imgsim\n",
    "    import cv2\n",
    "    img0 = cv2.imread(productimg)\n",
    "    img1 = cv2.imread(similarimg)\n",
    "\n",
    "    vtr = imgsim.Vectorizer()\n",
    "    vec0 = vtr.vectorize(img0)\n",
    "    vec1 = vtr.vectorize(img1)\n",
    "\n",
    "    dist = imgsim.distance(vec0, vec1)\n",
    "\n",
    "    # print(\"distance =\", dist)\n",
    "    return dist\n",
    "\n"
   ]
  },
  {
   "cell_type": "code",
   "execution_count": 15,
   "metadata": {},
   "outputs": [
    {
     "name": "stdout",
     "output_type": "stream",
     "text": [
      "最も似ている画像はapple3.pngです\n"
     ]
    },
    {
     "data": {
      "text/plain": [
       "{'apple1.png': 8.612928,\n",
       " 'apple2.png': 4.7761884,\n",
       " 'apple3.png': 0.0,\n",
       " 'apple4.png': 9.353957,\n",
       " 'cupcake.png': 17.604813,\n",
       " 'paplica.jpg': 9.86858,\n",
       " 'salmon.jpg': 13.173037,\n",
       " 'sweetpotato.png': 15.833176,\n",
       " 'tuna.png': 18.629368}"
      ]
     },
     "execution_count": 15,
     "metadata": {},
     "output_type": "execute_result"
    }
   ],
   "source": [
    "import glob\n",
    "files = glob.glob(\"images/*\")\n",
    "dist = dict()\n",
    "for file in files:\n",
    "    dist[file.replace(\"images\\\\\",\"\")] = similar_check(\"similar.png\",file)\n",
    "\n",
    "similarimg = min(dist,key=dist.get)\n",
    "\n",
    "print(f\"最も似ている画像は{similarimg}です\")\n",
    "dist"
   ]
  },
  {
   "cell_type": "code",
   "execution_count": null,
   "metadata": {},
   "outputs": [],
   "source": []
  }
 ],
 "metadata": {
  "kernelspec": {
   "display_name": "Python 3.9.13 ('venv': venv)",
   "language": "python",
   "name": "python3"
  },
  "language_info": {
   "codemirror_mode": {
    "name": "ipython",
    "version": 3
   },
   "file_extension": ".py",
   "mimetype": "text/x-python",
   "name": "python",
   "nbconvert_exporter": "python",
   "pygments_lexer": "ipython3",
   "version": "3.9.13"
  },
  "orig_nbformat": 4,
  "vscode": {
   "interpreter": {
    "hash": "4bc161241cdcfaa639caf2411ca4e43e199433f9a88302595dd952c07864ab65"
   }
  }
 },
 "nbformat": 4,
 "nbformat_minor": 2
}
